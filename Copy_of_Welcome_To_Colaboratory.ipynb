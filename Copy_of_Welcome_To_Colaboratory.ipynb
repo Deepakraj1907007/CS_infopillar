{
  "cells": [
    {
      "cell_type": "markdown",
      "source": [
        "### **Customer Segmentation**"
      ],
      "metadata": {
        "id": "Vd4RUTlIN65A"
      }
    },
    {
      "cell_type": "markdown",
      "source": [
        "Importing the libraries"
      ],
      "metadata": {
        "id": "oexzR6g3G2a9"
      }
    },
    {
      "cell_type": "code",
      "source": [
        "import pandas as pd\n",
        "import numpy as np\n",
        "import matplotlib.pyplot as plt\n",
        "import seaborn as sns\n",
        "import scipy as sc\n",
        "import matplotlib as mpl"
      ],
      "metadata": {
        "id": "ErHNRhnEpib4"
      },
      "execution_count": null,
      "outputs": []
    },
    {
      "cell_type": "code",
      "source": [
        "import itertools"
      ],
      "metadata": {
        "id": "B6gCff-Gpu-k"
      },
      "execution_count": null,
      "outputs": []
    },
    {
      "cell_type": "markdown",
      "source": [
        "Loading the dataset"
      ],
      "metadata": {
        "id": "-P4QXbH-HKHl"
      }
    },
    {
      "cell_type": "code",
      "source": [
        "data = pd.read_csv(\"/Mall_Customers.csv\")\n",
        "data.shape\n",
        "data.head(5)"
      ],
      "metadata": {
        "id": "tG-q-Xsjp0F8",
        "outputId": "54dbb647-2b98-431e-f5d5-6456d9ba793a",
        "colab": {
          "base_uri": "https://localhost:8080/",
          "height": 206
        }
      },
      "execution_count": null,
      "outputs": [
        {
          "output_type": "execute_result",
          "data": {
            "text/plain": [
              "   CustomerID  Gender  Age  Annual Income (k$)  Spending Score (1-100)\n",
              "0           1    Male   19                  15                      39\n",
              "1           2    Male   21                  15                      81\n",
              "2           3  Female   20                  16                       6\n",
              "3           4  Female   23                  16                      77\n",
              "4           5  Female   31                  17                      40"
            ],
            "text/html": [
              "\n",
              "  <div id=\"df-30e24f6f-273a-41e8-a33e-bec48b6198ad\">\n",
              "    <div class=\"colab-df-container\">\n",
              "      <div>\n",
              "<style scoped>\n",
              "    .dataframe tbody tr th:only-of-type {\n",
              "        vertical-align: middle;\n",
              "    }\n",
              "\n",
              "    .dataframe tbody tr th {\n",
              "        vertical-align: top;\n",
              "    }\n",
              "\n",
              "    .dataframe thead th {\n",
              "        text-align: right;\n",
              "    }\n",
              "</style>\n",
              "<table border=\"1\" class=\"dataframe\">\n",
              "  <thead>\n",
              "    <tr style=\"text-align: right;\">\n",
              "      <th></th>\n",
              "      <th>CustomerID</th>\n",
              "      <th>Gender</th>\n",
              "      <th>Age</th>\n",
              "      <th>Annual Income (k$)</th>\n",
              "      <th>Spending Score (1-100)</th>\n",
              "    </tr>\n",
              "  </thead>\n",
              "  <tbody>\n",
              "    <tr>\n",
              "      <th>0</th>\n",
              "      <td>1</td>\n",
              "      <td>Male</td>\n",
              "      <td>19</td>\n",
              "      <td>15</td>\n",
              "      <td>39</td>\n",
              "    </tr>\n",
              "    <tr>\n",
              "      <th>1</th>\n",
              "      <td>2</td>\n",
              "      <td>Male</td>\n",
              "      <td>21</td>\n",
              "      <td>15</td>\n",
              "      <td>81</td>\n",
              "    </tr>\n",
              "    <tr>\n",
              "      <th>2</th>\n",
              "      <td>3</td>\n",
              "      <td>Female</td>\n",
              "      <td>20</td>\n",
              "      <td>16</td>\n",
              "      <td>6</td>\n",
              "    </tr>\n",
              "    <tr>\n",
              "      <th>3</th>\n",
              "      <td>4</td>\n",
              "      <td>Female</td>\n",
              "      <td>23</td>\n",
              "      <td>16</td>\n",
              "      <td>77</td>\n",
              "    </tr>\n",
              "    <tr>\n",
              "      <th>4</th>\n",
              "      <td>5</td>\n",
              "      <td>Female</td>\n",
              "      <td>31</td>\n",
              "      <td>17</td>\n",
              "      <td>40</td>\n",
              "    </tr>\n",
              "  </tbody>\n",
              "</table>\n",
              "</div>\n",
              "      <button class=\"colab-df-convert\" onclick=\"convertToInteractive('df-30e24f6f-273a-41e8-a33e-bec48b6198ad')\"\n",
              "              title=\"Convert this dataframe to an interactive table.\"\n",
              "              style=\"display:none;\">\n",
              "        \n",
              "  <svg xmlns=\"http://www.w3.org/2000/svg\" height=\"24px\"viewBox=\"0 0 24 24\"\n",
              "       width=\"24px\">\n",
              "    <path d=\"M0 0h24v24H0V0z\" fill=\"none\"/>\n",
              "    <path d=\"M18.56 5.44l.94 2.06.94-2.06 2.06-.94-2.06-.94-.94-2.06-.94 2.06-2.06.94zm-11 1L8.5 8.5l.94-2.06 2.06-.94-2.06-.94L8.5 2.5l-.94 2.06-2.06.94zm10 10l.94 2.06.94-2.06 2.06-.94-2.06-.94-.94-2.06-.94 2.06-2.06.94z\"/><path d=\"M17.41 7.96l-1.37-1.37c-.4-.4-.92-.59-1.43-.59-.52 0-1.04.2-1.43.59L10.3 9.45l-7.72 7.72c-.78.78-.78 2.05 0 2.83L4 21.41c.39.39.9.59 1.41.59.51 0 1.02-.2 1.41-.59l7.78-7.78 2.81-2.81c.8-.78.8-2.07 0-2.86zM5.41 20L4 18.59l7.72-7.72 1.47 1.35L5.41 20z\"/>\n",
              "  </svg>\n",
              "      </button>\n",
              "      \n",
              "  <style>\n",
              "    .colab-df-container {\n",
              "      display:flex;\n",
              "      flex-wrap:wrap;\n",
              "      gap: 12px;\n",
              "    }\n",
              "\n",
              "    .colab-df-convert {\n",
              "      background-color: #E8F0FE;\n",
              "      border: none;\n",
              "      border-radius: 50%;\n",
              "      cursor: pointer;\n",
              "      display: none;\n",
              "      fill: #1967D2;\n",
              "      height: 32px;\n",
              "      padding: 0 0 0 0;\n",
              "      width: 32px;\n",
              "    }\n",
              "\n",
              "    .colab-df-convert:hover {\n",
              "      background-color: #E2EBFA;\n",
              "      box-shadow: 0px 1px 2px rgba(60, 64, 67, 0.3), 0px 1px 3px 1px rgba(60, 64, 67, 0.15);\n",
              "      fill: #174EA6;\n",
              "    }\n",
              "\n",
              "    [theme=dark] .colab-df-convert {\n",
              "      background-color: #3B4455;\n",
              "      fill: #D2E3FC;\n",
              "    }\n",
              "\n",
              "    [theme=dark] .colab-df-convert:hover {\n",
              "      background-color: #434B5C;\n",
              "      box-shadow: 0px 1px 3px 1px rgba(0, 0, 0, 0.15);\n",
              "      filter: drop-shadow(0px 1px 2px rgba(0, 0, 0, 0.3));\n",
              "      fill: #FFFFFF;\n",
              "    }\n",
              "  </style>\n",
              "\n",
              "      <script>\n",
              "        const buttonEl =\n",
              "          document.querySelector('#df-30e24f6f-273a-41e8-a33e-bec48b6198ad button.colab-df-convert');\n",
              "        buttonEl.style.display =\n",
              "          google.colab.kernel.accessAllowed ? 'block' : 'none';\n",
              "\n",
              "        async function convertToInteractive(key) {\n",
              "          const element = document.querySelector('#df-30e24f6f-273a-41e8-a33e-bec48b6198ad');\n",
              "          const dataTable =\n",
              "            await google.colab.kernel.invokeFunction('convertToInteractive',\n",
              "                                                     [key], {});\n",
              "          if (!dataTable) return;\n",
              "\n",
              "          const docLinkHtml = 'Like what you see? Visit the ' +\n",
              "            '<a target=\"_blank\" href=https://colab.research.google.com/notebooks/data_table.ipynb>data table notebook</a>'\n",
              "            + ' to learn more about interactive tables.';\n",
              "          element.innerHTML = '';\n",
              "          dataTable['output_type'] = 'display_data';\n",
              "          await google.colab.output.renderOutput(dataTable, element);\n",
              "          const docLink = document.createElement('div');\n",
              "          docLink.innerHTML = docLinkHtml;\n",
              "          element.appendChild(docLink);\n",
              "        }\n",
              "      </script>\n",
              "    </div>\n",
              "  </div>\n",
              "  "
            ]
          },
          "metadata": {},
          "execution_count": 7
        }
      ]
    },
    {
      "cell_type": "code",
      "source": [
        "data.head()\n",
        "\n"
      ],
      "metadata": {
        "id": "oOqUkA1XBFeh",
        "outputId": "085843c5-5a39-4392-a433-6ed1f0317534",
        "colab": {
          "base_uri": "https://localhost:8080/",
          "height": 206
        }
      },
      "execution_count": null,
      "outputs": [
        {
          "output_type": "execute_result",
          "data": {
            "text/plain": [
              "  CustomerID  Gender Age  Annual Income (k$)  Spending Score (1-100)\n",
              "0          1    Male  19                  15                      39\n",
              "1          2    Male  21                  15                      81\n",
              "2          3  Female  20                  16                       6\n",
              "3          4  Female  23                  16                      77\n",
              "4          5  Female  31                  17                      40"
            ],
            "text/html": [
              "\n",
              "  <div id=\"df-3fbc6df1-46c0-4d64-933e-cd72a34ff353\">\n",
              "    <div class=\"colab-df-container\">\n",
              "      <div>\n",
              "<style scoped>\n",
              "    .dataframe tbody tr th:only-of-type {\n",
              "        vertical-align: middle;\n",
              "    }\n",
              "\n",
              "    .dataframe tbody tr th {\n",
              "        vertical-align: top;\n",
              "    }\n",
              "\n",
              "    .dataframe thead th {\n",
              "        text-align: right;\n",
              "    }\n",
              "</style>\n",
              "<table border=\"1\" class=\"dataframe\">\n",
              "  <thead>\n",
              "    <tr style=\"text-align: right;\">\n",
              "      <th></th>\n",
              "      <th>CustomerID</th>\n",
              "      <th>Gender</th>\n",
              "      <th>Age</th>\n",
              "      <th>Annual Income (k$)</th>\n",
              "      <th>Spending Score (1-100)</th>\n",
              "    </tr>\n",
              "  </thead>\n",
              "  <tbody>\n",
              "    <tr>\n",
              "      <th>0</th>\n",
              "      <td>1</td>\n",
              "      <td>Male</td>\n",
              "      <td>19</td>\n",
              "      <td>15</td>\n",
              "      <td>39</td>\n",
              "    </tr>\n",
              "    <tr>\n",
              "      <th>1</th>\n",
              "      <td>2</td>\n",
              "      <td>Male</td>\n",
              "      <td>21</td>\n",
              "      <td>15</td>\n",
              "      <td>81</td>\n",
              "    </tr>\n",
              "    <tr>\n",
              "      <th>2</th>\n",
              "      <td>3</td>\n",
              "      <td>Female</td>\n",
              "      <td>20</td>\n",
              "      <td>16</td>\n",
              "      <td>6</td>\n",
              "    </tr>\n",
              "    <tr>\n",
              "      <th>3</th>\n",
              "      <td>4</td>\n",
              "      <td>Female</td>\n",
              "      <td>23</td>\n",
              "      <td>16</td>\n",
              "      <td>77</td>\n",
              "    </tr>\n",
              "    <tr>\n",
              "      <th>4</th>\n",
              "      <td>5</td>\n",
              "      <td>Female</td>\n",
              "      <td>31</td>\n",
              "      <td>17</td>\n",
              "      <td>40</td>\n",
              "    </tr>\n",
              "  </tbody>\n",
              "</table>\n",
              "</div>\n",
              "      <button class=\"colab-df-convert\" onclick=\"convertToInteractive('df-3fbc6df1-46c0-4d64-933e-cd72a34ff353')\"\n",
              "              title=\"Convert this dataframe to an interactive table.\"\n",
              "              style=\"display:none;\">\n",
              "        \n",
              "  <svg xmlns=\"http://www.w3.org/2000/svg\" height=\"24px\"viewBox=\"0 0 24 24\"\n",
              "       width=\"24px\">\n",
              "    <path d=\"M0 0h24v24H0V0z\" fill=\"none\"/>\n",
              "    <path d=\"M18.56 5.44l.94 2.06.94-2.06 2.06-.94-2.06-.94-.94-2.06-.94 2.06-2.06.94zm-11 1L8.5 8.5l.94-2.06 2.06-.94-2.06-.94L8.5 2.5l-.94 2.06-2.06.94zm10 10l.94 2.06.94-2.06 2.06-.94-2.06-.94-.94-2.06-.94 2.06-2.06.94z\"/><path d=\"M17.41 7.96l-1.37-1.37c-.4-.4-.92-.59-1.43-.59-.52 0-1.04.2-1.43.59L10.3 9.45l-7.72 7.72c-.78.78-.78 2.05 0 2.83L4 21.41c.39.39.9.59 1.41.59.51 0 1.02-.2 1.41-.59l7.78-7.78 2.81-2.81c.8-.78.8-2.07 0-2.86zM5.41 20L4 18.59l7.72-7.72 1.47 1.35L5.41 20z\"/>\n",
              "  </svg>\n",
              "      </button>\n",
              "      \n",
              "  <style>\n",
              "    .colab-df-container {\n",
              "      display:flex;\n",
              "      flex-wrap:wrap;\n",
              "      gap: 12px;\n",
              "    }\n",
              "\n",
              "    .colab-df-convert {\n",
              "      background-color: #E8F0FE;\n",
              "      border: none;\n",
              "      border-radius: 50%;\n",
              "      cursor: pointer;\n",
              "      display: none;\n",
              "      fill: #1967D2;\n",
              "      height: 32px;\n",
              "      padding: 0 0 0 0;\n",
              "      width: 32px;\n",
              "    }\n",
              "\n",
              "    .colab-df-convert:hover {\n",
              "      background-color: #E2EBFA;\n",
              "      box-shadow: 0px 1px 2px rgba(60, 64, 67, 0.3), 0px 1px 3px 1px rgba(60, 64, 67, 0.15);\n",
              "      fill: #174EA6;\n",
              "    }\n",
              "\n",
              "    [theme=dark] .colab-df-convert {\n",
              "      background-color: #3B4455;\n",
              "      fill: #D2E3FC;\n",
              "    }\n",
              "\n",
              "    [theme=dark] .colab-df-convert:hover {\n",
              "      background-color: #434B5C;\n",
              "      box-shadow: 0px 1px 3px 1px rgba(0, 0, 0, 0.15);\n",
              "      filter: drop-shadow(0px 1px 2px rgba(0, 0, 0, 0.3));\n",
              "      fill: #FFFFFF;\n",
              "    }\n",
              "  </style>\n",
              "\n",
              "      <script>\n",
              "        const buttonEl =\n",
              "          document.querySelector('#df-3fbc6df1-46c0-4d64-933e-cd72a34ff353 button.colab-df-convert');\n",
              "        buttonEl.style.display =\n",
              "          google.colab.kernel.accessAllowed ? 'block' : 'none';\n",
              "\n",
              "        async function convertToInteractive(key) {\n",
              "          const element = document.querySelector('#df-3fbc6df1-46c0-4d64-933e-cd72a34ff353');\n",
              "          const dataTable =\n",
              "            await google.colab.kernel.invokeFunction('convertToInteractive',\n",
              "                                                     [key], {});\n",
              "          if (!dataTable) return;\n",
              "\n",
              "          const docLinkHtml = 'Like what you see? Visit the ' +\n",
              "            '<a target=\"_blank\" href=https://colab.research.google.com/notebooks/data_table.ipynb>data table notebook</a>'\n",
              "            + ' to learn more about interactive tables.';\n",
              "          element.innerHTML = '';\n",
              "          dataTable['output_type'] = 'display_data';\n",
              "          await google.colab.output.renderOutput(dataTable, element);\n",
              "          const docLink = document.createElement('div');\n",
              "          docLink.innerHTML = docLinkHtml;\n",
              "          element.appendChild(docLink);\n",
              "        }\n",
              "      </script>\n",
              "    </div>\n",
              "  </div>\n",
              "  "
            ]
          },
          "metadata": {},
          "execution_count": 28
        }
      ]
    },
    {
      "cell_type": "code",
      "source": [
        "data.describe()"
      ],
      "metadata": {
        "id": "xsXQxwyhBO9L",
        "outputId": "78fb87ac-17b0-4b03-f81c-6ba36de5516e",
        "colab": {
          "base_uri": "https://localhost:8080/",
          "height": 300
        }
      },
      "execution_count": null,
      "outputs": [
        {
          "output_type": "execute_result",
          "data": {
            "text/plain": [
              "       Annual Income (k$)  Spending Score (1-100)\n",
              "count          200.000000              200.000000\n",
              "mean            60.560000               50.200000\n",
              "std             26.264721               25.823522\n",
              "min             15.000000                1.000000\n",
              "25%             41.500000               34.750000\n",
              "50%             61.500000               50.000000\n",
              "75%             78.000000               73.000000\n",
              "max            137.000000               99.000000"
            ],
            "text/html": [
              "\n",
              "  <div id=\"df-c8552ef9-ec17-4642-b381-d77999e5bbfa\">\n",
              "    <div class=\"colab-df-container\">\n",
              "      <div>\n",
              "<style scoped>\n",
              "    .dataframe tbody tr th:only-of-type {\n",
              "        vertical-align: middle;\n",
              "    }\n",
              "\n",
              "    .dataframe tbody tr th {\n",
              "        vertical-align: top;\n",
              "    }\n",
              "\n",
              "    .dataframe thead th {\n",
              "        text-align: right;\n",
              "    }\n",
              "</style>\n",
              "<table border=\"1\" class=\"dataframe\">\n",
              "  <thead>\n",
              "    <tr style=\"text-align: right;\">\n",
              "      <th></th>\n",
              "      <th>Annual Income (k$)</th>\n",
              "      <th>Spending Score (1-100)</th>\n",
              "    </tr>\n",
              "  </thead>\n",
              "  <tbody>\n",
              "    <tr>\n",
              "      <th>count</th>\n",
              "      <td>200.000000</td>\n",
              "      <td>200.000000</td>\n",
              "    </tr>\n",
              "    <tr>\n",
              "      <th>mean</th>\n",
              "      <td>60.560000</td>\n",
              "      <td>50.200000</td>\n",
              "    </tr>\n",
              "    <tr>\n",
              "      <th>std</th>\n",
              "      <td>26.264721</td>\n",
              "      <td>25.823522</td>\n",
              "    </tr>\n",
              "    <tr>\n",
              "      <th>min</th>\n",
              "      <td>15.000000</td>\n",
              "      <td>1.000000</td>\n",
              "    </tr>\n",
              "    <tr>\n",
              "      <th>25%</th>\n",
              "      <td>41.500000</td>\n",
              "      <td>34.750000</td>\n",
              "    </tr>\n",
              "    <tr>\n",
              "      <th>50%</th>\n",
              "      <td>61.500000</td>\n",
              "      <td>50.000000</td>\n",
              "    </tr>\n",
              "    <tr>\n",
              "      <th>75%</th>\n",
              "      <td>78.000000</td>\n",
              "      <td>73.000000</td>\n",
              "    </tr>\n",
              "    <tr>\n",
              "      <th>max</th>\n",
              "      <td>137.000000</td>\n",
              "      <td>99.000000</td>\n",
              "    </tr>\n",
              "  </tbody>\n",
              "</table>\n",
              "</div>\n",
              "      <button class=\"colab-df-convert\" onclick=\"convertToInteractive('df-c8552ef9-ec17-4642-b381-d77999e5bbfa')\"\n",
              "              title=\"Convert this dataframe to an interactive table.\"\n",
              "              style=\"display:none;\">\n",
              "        \n",
              "  <svg xmlns=\"http://www.w3.org/2000/svg\" height=\"24px\"viewBox=\"0 0 24 24\"\n",
              "       width=\"24px\">\n",
              "    <path d=\"M0 0h24v24H0V0z\" fill=\"none\"/>\n",
              "    <path d=\"M18.56 5.44l.94 2.06.94-2.06 2.06-.94-2.06-.94-.94-2.06-.94 2.06-2.06.94zm-11 1L8.5 8.5l.94-2.06 2.06-.94-2.06-.94L8.5 2.5l-.94 2.06-2.06.94zm10 10l.94 2.06.94-2.06 2.06-.94-2.06-.94-.94-2.06-.94 2.06-2.06.94z\"/><path d=\"M17.41 7.96l-1.37-1.37c-.4-.4-.92-.59-1.43-.59-.52 0-1.04.2-1.43.59L10.3 9.45l-7.72 7.72c-.78.78-.78 2.05 0 2.83L4 21.41c.39.39.9.59 1.41.59.51 0 1.02-.2 1.41-.59l7.78-7.78 2.81-2.81c.8-.78.8-2.07 0-2.86zM5.41 20L4 18.59l7.72-7.72 1.47 1.35L5.41 20z\"/>\n",
              "  </svg>\n",
              "      </button>\n",
              "      \n",
              "  <style>\n",
              "    .colab-df-container {\n",
              "      display:flex;\n",
              "      flex-wrap:wrap;\n",
              "      gap: 12px;\n",
              "    }\n",
              "\n",
              "    .colab-df-convert {\n",
              "      background-color: #E8F0FE;\n",
              "      border: none;\n",
              "      border-radius: 50%;\n",
              "      cursor: pointer;\n",
              "      display: none;\n",
              "      fill: #1967D2;\n",
              "      height: 32px;\n",
              "      padding: 0 0 0 0;\n",
              "      width: 32px;\n",
              "    }\n",
              "\n",
              "    .colab-df-convert:hover {\n",
              "      background-color: #E2EBFA;\n",
              "      box-shadow: 0px 1px 2px rgba(60, 64, 67, 0.3), 0px 1px 3px 1px rgba(60, 64, 67, 0.15);\n",
              "      fill: #174EA6;\n",
              "    }\n",
              "\n",
              "    [theme=dark] .colab-df-convert {\n",
              "      background-color: #3B4455;\n",
              "      fill: #D2E3FC;\n",
              "    }\n",
              "\n",
              "    [theme=dark] .colab-df-convert:hover {\n",
              "      background-color: #434B5C;\n",
              "      box-shadow: 0px 1px 3px 1px rgba(0, 0, 0, 0.15);\n",
              "      filter: drop-shadow(0px 1px 2px rgba(0, 0, 0, 0.3));\n",
              "      fill: #FFFFFF;\n",
              "    }\n",
              "  </style>\n",
              "\n",
              "      <script>\n",
              "        const buttonEl =\n",
              "          document.querySelector('#df-c8552ef9-ec17-4642-b381-d77999e5bbfa button.colab-df-convert');\n",
              "        buttonEl.style.display =\n",
              "          google.colab.kernel.accessAllowed ? 'block' : 'none';\n",
              "\n",
              "        async function convertToInteractive(key) {\n",
              "          const element = document.querySelector('#df-c8552ef9-ec17-4642-b381-d77999e5bbfa');\n",
              "          const dataTable =\n",
              "            await google.colab.kernel.invokeFunction('convertToInteractive',\n",
              "                                                     [key], {});\n",
              "          if (!dataTable) return;\n",
              "\n",
              "          const docLinkHtml = 'Like what you see? Visit the ' +\n",
              "            '<a target=\"_blank\" href=https://colab.research.google.com/notebooks/data_table.ipynb>data table notebook</a>'\n",
              "            + ' to learn more about interactive tables.';\n",
              "          element.innerHTML = '';\n",
              "          dataTable['output_type'] = 'display_data';\n",
              "          await google.colab.output.renderOutput(dataTable, element);\n",
              "          const docLink = document.createElement('div');\n",
              "          docLink.innerHTML = docLinkHtml;\n",
              "          element.appendChild(docLink);\n",
              "        }\n",
              "      </script>\n",
              "    </div>\n",
              "  </div>\n",
              "  "
            ]
          },
          "metadata": {},
          "execution_count": 29
        }
      ]
    },
    {
      "cell_type": "code",
      "source": [
        "data.shape"
      ],
      "metadata": {
        "id": "CL3aqvK6BV5k",
        "outputId": "1b458e50-cfc2-46d4-95de-a523f9e5c6e6",
        "colab": {
          "base_uri": "https://localhost:8080/"
        }
      },
      "execution_count": null,
      "outputs": [
        {
          "output_type": "execute_result",
          "data": {
            "text/plain": [
              "(200, 5)"
            ]
          },
          "metadata": {},
          "execution_count": 31
        }
      ]
    },
    {
      "cell_type": "markdown",
      "source": [
        "Missing data & Type of variables"
      ],
      "metadata": {
        "id": "5IGlrT0AHYkI"
      }
    },
    {
      "cell_type": "code",
      "source": [
        "data.info()"
      ],
      "metadata": {
        "id": "z0A2HIhz2vDb",
        "outputId": "1c779a32-1fbf-4d0b-f900-b86f723abc7f",
        "colab": {
          "base_uri": "https://localhost:8080/"
        }
      },
      "execution_count": null,
      "outputs": [
        {
          "output_type": "stream",
          "name": "stdout",
          "text": [
            "<class 'pandas.core.frame.DataFrame'>\n",
            "RangeIndex: 200 entries, 0 to 199\n",
            "Data columns (total 5 columns):\n",
            " #   Column                  Non-Null Count  Dtype \n",
            "---  ------                  --------------  ----- \n",
            " 0   CustomerID              200 non-null    int64 \n",
            " 1   Gender                  200 non-null    object\n",
            " 2   Age                     200 non-null    int64 \n",
            " 3   Annual Income (k$)      200 non-null    int64 \n",
            " 4   Spending Score (1-100)  200 non-null    int64 \n",
            "dtypes: int64(4), object(1)\n",
            "memory usage: 7.9+ KB\n"
          ]
        }
      ]
    },
    {
      "cell_type": "markdown",
      "source": [
        "Transforming specific variables into categorical variables"
      ],
      "metadata": {
        "id": "jgQrlbM8HflL"
      }
    },
    {
      "cell_type": "code",
      "source": [
        "data['CustomerID'] = data['CustomerID'].astype('category')\n",
        "data['Age'] = data['Age'].astype('category')\n",
        "data.info()\n"
      ],
      "metadata": {
        "id": "uhnUx7Za25Ny",
        "outputId": "23536b1f-a976-41eb-c4e9-9ba7c25d2a3a",
        "colab": {
          "base_uri": "https://localhost:8080/"
        }
      },
      "execution_count": null,
      "outputs": [
        {
          "output_type": "stream",
          "name": "stdout",
          "text": [
            "<class 'pandas.core.frame.DataFrame'>\n",
            "RangeIndex: 200 entries, 0 to 199\n",
            "Data columns (total 5 columns):\n",
            " #   Column                  Non-Null Count  Dtype   \n",
            "---  ------                  --------------  -----   \n",
            " 0   CustomerID              200 non-null    category\n",
            " 1   Gender                  200 non-null    object  \n",
            " 2   Age                     200 non-null    category\n",
            " 3   Annual Income (k$)      200 non-null    int64   \n",
            " 4   Spending Score (1-100)  200 non-null    int64   \n",
            "dtypes: category(2), int64(2), object(1)\n",
            "memory usage: 17.5+ KB\n"
          ]
        }
      ]
    },
    {
      "cell_type": "markdown",
      "source": [
        "**Data pre-processing for model**"
      ],
      "metadata": {
        "id": "5_wonvy2HhEi"
      }
    },
    {
      "cell_type": "code",
      "source": [
        "X = data\n",
        "num_cols = [\"CustomerID\", \"Age\", \"Annual Income (k$)\", \"Spending Score (1-100)\"]\n",
        "\n",
        "\n",
        "cat_cols = [\"CustomerID\", \"Age\"]\n",
        "dummies = pd.get_dummies(X[cat_cols])\n",
        "\n",
        "\n",
        "\n",
        "\n",
        "X1 = X[num_cols]\n",
        "X2 = pd.concat([dummies, X1], axis=1)\n",
        "X = X2\n",
        "\n",
        "\n",
        "\n",
        "y = data[\"Age\"]\n",
        "\n",
        "\n",
        "\n",
        "from sklearn.model_selection import train_test_split\n",
        "X_train, X_test, y_train, y_test = train_test_split(X, y, test_size = 0.25, random_state = 0)\n",
        "X_train.head(5)\n",
        "\n",
        "X_test0 = X_test\n",
        "y_test0 = y_test"
      ],
      "metadata": {
        "id": "aEGMGVam39ag"
      },
      "execution_count": null,
      "outputs": []
    },
    {
      "cell_type": "markdown",
      "source": [
        "**Principal component analysis**"
      ],
      "metadata": {
        "id": "LwPzh8qgHp4Z"
      }
    },
    {
      "cell_type": "code",
      "source": [
        "from sklearn.decomposition import PCA\n",
        "pca = PCA(n_components = None)\n",
        "X_train1 = pca.fit_transform(X_train)\n",
        "X_test1 = pca.transform(X_test)\n",
        "explained_variance = pca.explained_variance_ratio_\n",
        "print(\"Variation explained by each principal component\")\n",
        "list(explained_variance)"
      ],
      "metadata": {
        "id": "awvcV--a_CAU",
        "outputId": "cc05a61c-38d9-46da-c8f6-4d855c49f744",
        "colab": {
          "base_uri": "https://localhost:8080/"
        }
      },
      "execution_count": null,
      "outputs": [
        {
          "output_type": "stream",
          "name": "stdout",
          "text": [
            "Variation explained by each principal component\n"
          ]
        },
        {
          "output_type": "execute_result",
          "data": {
            "text/plain": [
              "[0.8203436516479731,\n",
              " 0.1361201098899423,\n",
              " 0.036837243858373794,\n",
              " 0.006308494414540493,\n",
              " 1.3308997248791552e-05,\n",
              " 1.0665126127310345e-05,\n",
              " 9.497918684497647e-06,\n",
              " 9.272571858761213e-06,\n",
              " 8.260571087239395e-06,\n",
              " 8.26057108723939e-06,\n",
              " 8.255573739837398e-06,\n",
              " 8.157566565540256e-06,\n",
              " 7.916661211986905e-06,\n",
              " 7.775264695115672e-06,\n",
              " 7.377558896047119e-06,\n",
              " 6.883809239366143e-06,\n",
              " 6.8346934875421356e-06,\n",
              " 6.692767344042977e-06,\n",
              " 6.469048389070563e-06,\n",
              " 6.379888918736801e-06,\n",
              " 5.98477440857714e-06,\n",
              " 5.50704739149292e-06,\n",
              " 5.50704739149292e-06,\n",
              " 5.507047391492916e-06,\n",
              " 5.507047391492915e-06,\n",
              " 5.507047391492915e-06,\n",
              " 5.378537749647055e-06,\n",
              " 5.332042167084338e-06,\n",
              " 5.112171660987447e-06,\n",
              " 4.674295866709193e-06,\n",
              " 4.3077810142530016e-06,\n",
              " 4.130285543619693e-06,\n",
              " 4.130285543619691e-06,\n",
              " 4.130285543619686e-06,\n",
              " 4.130285543619686e-06,\n",
              " 4.130285543619683e-06,\n",
              " 3.916502040373434e-06,\n",
              " 3.7829904912008548e-06,\n",
              " 3.6745517507128253e-06,\n",
              " 3.2004257393242893e-06,\n",
              " 2.8251184768747982e-06,\n",
              " 2.7535236957464622e-06,\n",
              " 2.7535236957464606e-06,\n",
              " 2.75352369574646e-06,\n",
              " 2.75352369574646e-06,\n",
              " 2.753523695746458e-06,\n",
              " 2.753523695746458e-06,\n",
              " 2.7535236957464538e-06,\n",
              " 2.750176611557708e-06,\n",
              " 2.718587488587144e-06,\n",
              " 2.4496534859653213e-06,\n",
              " 1.3767618478735142e-06,\n",
              " 1.3767618478733626e-06,\n",
              " 1.3767618478733137e-06,\n",
              " 1.3767618478732618e-06,\n",
              " 1.3767618478732366e-06,\n",
              " 1.3767618478732324e-06,\n",
              " 1.376761847873232e-06,\n",
              " 1.376761847873232e-06,\n",
              " 1.3767618478732307e-06,\n",
              " 1.37676184787323e-06,\n",
              " 1.37676184787323e-06,\n",
              " 1.37676184787323e-06,\n",
              " 1.37676184787323e-06,\n",
              " 1.37676184787323e-06,\n",
              " 1.37676184787323e-06,\n",
              " 1.37676184787323e-06,\n",
              " 1.37676184787323e-06,\n",
              " 1.37676184787323e-06,\n",
              " 1.37676184787323e-06,\n",
              " 1.37676184787323e-06,\n",
              " 1.37676184787323e-06,\n",
              " 1.3767618478732294e-06,\n",
              " 1.3767618478732294e-06,\n",
              " 1.3767618478732294e-06,\n",
              " 1.3767618478732294e-06,\n",
              " 1.3767618478732294e-06,\n",
              " 1.3767618478732294e-06,\n",
              " 1.3767618478732294e-06,\n",
              " 1.3767618478732294e-06,\n",
              " 1.3767618478732294e-06,\n",
              " 1.3767618478732294e-06,\n",
              " 1.3767618478732294e-06,\n",
              " 1.3767618478732294e-06,\n",
              " 1.3767618478732294e-06,\n",
              " 1.3767618478732294e-06,\n",
              " 1.3767618478732294e-06,\n",
              " 1.3767618478732294e-06,\n",
              " 1.376761847873229e-06,\n",
              " 1.376761847873229e-06,\n",
              " 1.376761847873229e-06,\n",
              " 1.376761847873229e-06,\n",
              " 1.376761847873229e-06,\n",
              " 1.376761847873229e-06,\n",
              " 1.376761847873229e-06,\n",
              " 1.376761847873229e-06,\n",
              " 1.376761847873229e-06,\n",
              " 1.376761847873229e-06,\n",
              " 1.376761847873229e-06,\n",
              " 1.376761847873229e-06,\n",
              " 1.376761847873229e-06,\n",
              " 1.376761847873229e-06,\n",
              " 1.376761847873229e-06,\n",
              " 1.376761847873229e-06,\n",
              " 1.376761847873229e-06,\n",
              " 1.376761847873229e-06,\n",
              " 1.376761847873229e-06,\n",
              " 1.376761847873229e-06,\n",
              " 1.376761847873229e-06,\n",
              " 1.376761847873229e-06,\n",
              " 1.376761847873229e-06,\n",
              " 1.376761847873229e-06,\n",
              " 1.376761847873229e-06,\n",
              " 1.376761847873229e-06,\n",
              " 1.376761847873229e-06,\n",
              " 1.376761847873229e-06,\n",
              " 1.376761847873229e-06,\n",
              " 1.3767618478732288e-06,\n",
              " 1.3767618478732288e-06,\n",
              " 1.3767618478732288e-06,\n",
              " 1.3767618478732288e-06,\n",
              " 1.3767618478732288e-06,\n",
              " 1.3767618478732288e-06,\n",
              " 1.3767618478732288e-06,\n",
              " 1.3767618478732288e-06,\n",
              " 1.3767618478732288e-06,\n",
              " 1.3767618478732282e-06,\n",
              " 1.3767618478732282e-06,\n",
              " 1.3767618478732282e-06,\n",
              " 1.3767618478732282e-06,\n",
              " 1.3767618478732282e-06,\n",
              " 1.3767618478732282e-06,\n",
              " 1.3767618478732282e-06,\n",
              " 1.3767618478732282e-06,\n",
              " 1.3767618478732282e-06,\n",
              " 1.3767618478732282e-06,\n",
              " 1.3767618478732282e-06,\n",
              " 1.3767618478732269e-06,\n",
              " 1.3767618478732267e-06,\n",
              " 1.3767618478732267e-06,\n",
              " 1.3767618478732267e-06,\n",
              " 1.3767618478732248e-06,\n",
              " 1.3767618478732214e-06,\n",
              " 1.37676184787322e-06,\n",
              " 1.3767618478732142e-06,\n",
              " 1.3767618478731886e-06,\n",
              " 1.3767618478731426e-06,\n",
              " 1.3767618478731297e-06,\n",
              " 1.3767618478729565e-06,\n",
              " 1.288681590293991e-31]"
            ]
          },
          "metadata": {},
          "execution_count": 23
        }
      ]
    },
    {
      "cell_type": "markdown",
      "source": [
        "Selecting the top 2 principal components"
      ],
      "metadata": {
        "id": "Md4l1eRhHyfM"
      }
    },
    {
      "cell_type": "code",
      "source": [
        "i = 2\n",
        "from sklearn.decomposition import PCA\n",
        "pca = PCA(n_components = i)\n",
        "X_train = pca.fit_transform(X_train)\n",
        "X_test = pca.transform(X_test)\n",
        "explained_variance = pca.explained_variance_ratio_\n",
        "print(\"Variation explained by each principal component\")\n",
        "list(explained_variance)"
      ],
      "metadata": {
        "id": "79-TEA2U_Lgt",
        "outputId": "e9f3a29d-49de-445f-f540-d8a4bfa59539",
        "colab": {
          "base_uri": "https://localhost:8080/"
        }
      },
      "execution_count": null,
      "outputs": [
        {
          "output_type": "stream",
          "name": "stdout",
          "text": [
            "Variation explained by each principal component\n"
          ]
        },
        {
          "output_type": "execute_result",
          "data": {
            "text/plain": [
              "[0.8203436516479731, 0.1361201098899423]"
            ]
          },
          "metadata": {},
          "execution_count": 24
        }
      ]
    },
    {
      "cell_type": "markdown",
      "source": [
        "**Customer segmentation**"
      ],
      "metadata": {
        "id": "d2d6pOEFH5Bl"
      }
    },
    {
      "cell_type": "code",
      "source": [
        "from sklearn.cluster import KMeans\n",
        "wcss = []\n",
        "for i in range(1, 11):\n",
        "    kmeans = KMeans(n_clusters = i, init = 'k-means++', random_state = 42)\n",
        "    kmeans.fit(X_test)\n",
        "    wcss.append(kmeans.inertia_)\n",
        "plt.plot(range(1, 11), wcss)\n",
        "plt.title('The Elbow Method')\n",
        "plt.xlabel('Number of clusters')\n",
        "plt.ylabel('WCSS')\n",
        "plt.show()"
      ],
      "metadata": {
        "id": "RI49iB0y_ZXa",
        "outputId": "a2878c28-a961-4daa-e83c-b1bc49568ae1",
        "colab": {
          "base_uri": "https://localhost:8080/",
          "height": 295
        }
      },
      "execution_count": null,
      "outputs": [
        {
          "output_type": "display_data",
          "data": {
            "text/plain": [
              "<Figure size 432x288 with 1 Axes>"
            ],
            "image/png": "[encoded data removed]"
          },
          "metadata": {
            "needs_background": "light"
          }
        }
      ]
    },
    {
      "cell_type": "markdown",
      "source": [
        "Distribution of Customers in each segment"
      ],
      "metadata": {
        "id": "dDybrOQIIBmX"
      }
    },
    {
      "cell_type": "code",
      "source": [
        "X3 = X_test\n",
        "kmeans = KMeans(n_clusters = 3, init = 'k-means++', random_state = 42)\n",
        "y_kmeans = kmeans.fit_predict(X3)\n",
        "plt.plot(y_kmeans, 'g^')\n",
        "plt.show()"
      ],
      "metadata": {
        "id": "pMmDcaIM_gap",
        "outputId": "c6b35a93-988b-411d-c244-61d77d33ac2e",
        "colab": {
          "base_uri": "https://localhost:8080/",
          "height": 265
        }
      },
      "execution_count": null,
      "outputs": [
        {
          "output_type": "display_data",
          "data": {
            "text/plain": [
              "<Figure size 432x288 with 1 Axes>"
            ],
            "image/png": "[encoded data removed]"
          },
          "metadata": {
            "needs_background": "light"
          }
        }
      ]
    },
    {
      "cell_type": "markdown",
      "source": [
        "Visualizing customer segments"
      ],
      "metadata": {
        "id": "pLlW9RH9IKHD"
      }
    },
    {
      "cell_type": "code",
      "source": [
        "plt.scatter(X3[y_kmeans == 0, 0], X3[y_kmeans == 0, 1], s = 100, c = 'red', label = 'Segment 1')\n",
        "plt.scatter(X3[y_kmeans == 1, 0], X3[y_kmeans == 1, 1], s = 100, c = 'blue', label = 'Segment 2')\n",
        "plt.scatter(X3[y_kmeans == 2, 0], X3[y_kmeans == 2, 1], s = 100, c = 'green', label = 'Segment 3')\n",
        "plt.scatter(kmeans.cluster_centers_[:, 0], kmeans.cluster_centers_[:, 1], s = 200, c = 'yellow', label = 'Centroids')\n",
        "plt.title('Customer segments')\n",
        "plt.legend()\n",
        "plt.show()"
      ],
      "metadata": {
        "id": "eps16rmY_vam",
        "outputId": "b3161844-b544-484f-b42e-0382851de90a",
        "colab": {
          "base_uri": "https://localhost:8080/",
          "height": 281
        }
      },
      "execution_count": null,
      "outputs": [
        {
          "output_type": "display_data",
          "data": {
            "text/plain": [
              "<Figure size 432x288 with 1 Axes>"
            ],
            "image/png": "[encoded data removed]"
          },
          "metadata": {
            "needs_background": "light"
          }
        }
      ]
    },
    {
      "cell_type": "markdown",
      "source": [
        "Customer Segments"
      ],
      "metadata": {
        "id": "DqRfa1PeIQGW"
      }
    },
    {
      "cell_type": "code",
      "source": [
        "Customer_segment_class = pd.DataFrame(y_kmeans)\n",
        "Customer_segment_class.columns = [\"Customer_segment_class\"]\n",
        "X_test2 = X_test0.reset_index(drop=True)\n",
        "\n",
        "Customer_segments = pd.concat([Customer_segment_class, X_test2], axis = 1)"
      ],
      "metadata": {
        "id": "Z8MPKmCuAHdK"
      },
      "execution_count": null,
      "outputs": []
    },
    {
      "cell_type": "markdown",
      "source": [
        "Customer Segments"
      ],
      "metadata": {
        "id": "y4kSHh22IWVq"
      }
    },
    {
      "cell_type": "code",
      "source": [
        "# 1st Cluster\n",
        "mask = Customer_segments[\"Customer_segment_class\"] == 0\n",
        "Customer_segments_1 = Customer_segments[mask]\n",
        "\n",
        "# 2nd Cluster\n",
        "mask = Customer_segments[\"Customer_segment_class\"] == 1\n",
        "Customer_segments_2 = Customer_segments[mask]\n",
        "\n",
        "# 3rd Cluster\n",
        "mask = Customer_segments[\"Customer_segment_class\"] == 2\n",
        "Customer_segments_3 = Customer_segments[mask]"
      ],
      "metadata": {
        "id": "-WuKn_W5B2pM"
      },
      "execution_count": null,
      "outputs": []
    },
    {
      "cell_type": "markdown",
      "source": [
        "Customer Segment Features"
      ],
      "metadata": {
        "id": "3spqI2LPIa4b"
      }
    },
    {
      "cell_type": "code",
      "source": [
        "Customer_segments_1.groupby([\"CustomerID\", \"Age\"]).size()\n",
        "Customer_segments_2.groupby([\"CustomerID\", \"Age\"]).size()\n",
        "Customer_segments_3.groupby([\"CustomerID\", \"Age\"]).size()"
      ],
      "metadata": {
        "id": "DUpHnY3hB2xd",
        "outputId": "65cd1610-37d9-4223-9d0a-c71c98d920cf",
        "colab": {
          "base_uri": "https://localhost:8080/"
        }
      },
      "execution_count": null,
      "outputs": [
        {
          "output_type": "execute_result",
          "data": {
            "text/plain": [
              "CustomerID  Age\n",
              "1           18     0\n",
              "            19     0\n",
              "            20     0\n",
              "            21     0\n",
              "            22     0\n",
              "                  ..\n",
              "200         66     0\n",
              "            67     0\n",
              "            68     0\n",
              "            69     0\n",
              "            70     0\n",
              "Length: 10200, dtype: int64"
            ]
          },
          "metadata": {},
          "execution_count": 35
        }
      ]
    }
  ],
  "metadata": {
    "colab": {
      "collapsed_sections": [],
      "name": "Copy of Welcome To Colaboratory",
      "provenance": []
    },
    "kernelspec": {
      "display_name": "Python 3",
      "name": "python3"
    }
  },
  "nbformat": 4,
  "nbformat_minor": 0
}